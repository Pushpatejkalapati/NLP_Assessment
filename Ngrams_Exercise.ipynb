{
  "nbformat": 4,
  "nbformat_minor": 0,
  "metadata": {
    "colab": {
      "provenance": [],
      "authorship_tag": "ABX9TyMCuyvK8CtPKLoSwUgZipgU",
      "include_colab_link": true
    },
    "kernelspec": {
      "name": "python3",
      "display_name": "Python 3"
    },
    "language_info": {
      "name": "python"
    }
  },
  "cells": [
    {
      "cell_type": "markdown",
      "metadata": {
        "id": "view-in-github",
        "colab_type": "text"
      },
      "source": [
        "<a href=\"https://colab.research.google.com/github/Pushpatejkalapati/NLP_Assessment/blob/main/Ngrams_Exercise.ipynb\" target=\"_parent\"><img src=\"https://colab.research.google.com/assets/colab-badge.svg\" alt=\"Open In Colab\"/></a>"
      ]
    },
    {
      "cell_type": "code",
      "execution_count": 5,
      "metadata": {
        "colab": {
          "base_uri": "https://localhost:8080/"
        },
        "id": "XAMRTHHpH-_j",
        "outputId": "c215b176-0471-4740-8467-f3c272d11a8f"
      },
      "outputs": [
        {
          "output_type": "stream",
          "name": "stderr",
          "text": [
            "[nltk_data] Downloading package brown to /root/nltk_data...\n",
            "[nltk_data]   Package brown is already up-to-date!\n"
          ]
        }
      ],
      "source": [
        "import nltk\n",
        "from nltk.corpus import brown\n",
        "from nltk.util import ngrams\n",
        "from collections import Counter, defaultdict\n",
        "import pandas as pd\n",
        "import string\n",
        "\n",
        "# Download the corpus\n",
        "nltk.download('brown')\n",
        "\n",
        "# Load text, remove punctuation, lowercase, and exclude empty strings\n",
        "tokenized_text = [\n",
        "    word.lower()\n",
        "    for word in brown.words()\n",
        "    if word not in string.punctuation and word.strip()\n",
        "]"
      ]
    },
    {
      "cell_type": "code",
      "source": [
        "def create_ngrams_df(text, n):\n",
        "\n",
        "    # Generate n-grams\n",
        "    ngrams = list(nltk.ngrams(text, n))\n",
        "\n",
        "    # Count occurrences of each n-gram\n",
        "    ngram_counts = Counter(ngrams)\n",
        "\n",
        "    # Create a DataFrame\n",
        "    df = pd.DataFrame.from_dict(ngram_counts, orient='index').reset_index()\n",
        "    df = df.rename(columns={'index': 'ngram', 0: 'count'})\n",
        "    df = df.sort_values('count', ascending=False).reset_index(drop=True)\n",
        "\n",
        "    return df"
      ],
      "metadata": {
        "id": "GVEaMGKOII-o"
      },
      "execution_count": 6,
      "outputs": []
    },
    {
      "cell_type": "code",
      "source": [
        "def predict_next_words(text, sequence, k=5, n=4):\n",
        "    # Convert string input to list\n",
        "    if isinstance(sequence, str):\n",
        "        sequence = [sequence.lower()]\n",
        "\n",
        "    # Try from highest to lowest n-gram order (trigram -> bigram -> unigram)\n",
        "    for n in range(min(n, len(sequence) + 1), 1, -1):\n",
        "        context = sequence[-(n-1):]  # Get last (n-1) words for context\n",
        "\n",
        "        # Generate n-grams and filter matches\n",
        "        ngrams_df = create_ngrams_df(text, n)\n",
        "        matches = ngrams_df[ngrams_df['ngram'].apply(lambda x: x[:-1] == tuple(context))].copy()\n",
        "\n",
        "        if not matches.empty:\n",
        "            total = matches['count'].sum()\n",
        "            matches['probability'] = matches['count'] / total\n",
        "            top_k = matches.head(k)\n",
        "            return [(ngram[-1], count, prob)\n",
        "                    for ngram, count, prob in\n",
        "                    zip(top_k['ngram'], top_k['count'], top_k['probability'])]\n",
        "\n",
        "    return []"
      ],
      "metadata": {
        "id": "lXY1vAVIIlDS"
      },
      "execution_count": 7,
      "outputs": []
    },
    {
      "cell_type": "code",
      "source": [
        "# Create a bigrams dataframe (n=2)\n",
        "bigrams_df = create_ngrams_df(tokenized_text, n=2)\n",
        "print(\"DF CREATED HEAD: \\n\", bigrams_df.head())\n",
        "\n",
        "# Predict next words after \"the\"\n",
        "predictions = predict_next_words(tokenized_text, \"the\", k=5, n=2)\n",
        "print(\"\\nTop 3 predictions after 'the':\")\n",
        "for word, count, prob in predictions:\n",
        "    print(f\"{word}: {count} occurrences, probability={prob:.2f}\")\n",
        "\n",
        "# Predict with trigrams (n=3) after a 2-word sequence\n",
        "predictions = predict_next_words(tokenized_text, [\"in\", \"the\"], k=5, n=2)\n",
        "print(\"\\nTop 3 predictions after 'in the':\")\n",
        "for word, count, prob in predictions:\n",
        "    print(f\"{word}: {count} occurrences, probability={prob:.2f}\")"
      ],
      "metadata": {
        "colab": {
          "base_uri": "https://localhost:8080/"
        },
        "id": "f-OrNz78IscG",
        "outputId": "3b499388-d0d8-47f1-c56e-36e404022117"
      },
      "execution_count": 8,
      "outputs": [
        {
          "output_type": "stream",
          "name": "stdout",
          "text": [
            "DF CREATED HEAD: \n",
            "         ngram  count\n",
            "0   (of, the)   9721\n",
            "1   (in, the)   6041\n",
            "2   (to, the)   3492\n",
            "3   (on, the)   2477\n",
            "4  (and, the)   2247\n",
            "\n",
            "Top 3 predictions after 'the':\n",
            "first: 662 occurrences, probability=0.01\n",
            "same: 628 occurrences, probability=0.01\n",
            "most: 417 occurrences, probability=0.01\n",
            "other: 416 occurrences, probability=0.01\n",
            "``: 405 occurrences, probability=0.01\n",
            "\n",
            "Top 3 predictions after 'in the':\n",
            "first: 662 occurrences, probability=0.01\n",
            "same: 628 occurrences, probability=0.01\n",
            "most: 417 occurrences, probability=0.01\n",
            "other: 416 occurrences, probability=0.01\n",
            "``: 405 occurrences, probability=0.01\n"
          ]
        }
      ]
    },
    {
      "cell_type": "code",
      "source": [],
      "metadata": {
        "id": "4TkykX9oLuh7"
      },
      "execution_count": null,
      "outputs": []
    }
  ]
}